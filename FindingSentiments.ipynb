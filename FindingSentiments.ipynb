{
 "cells": [
  {
   "cell_type": "markdown",
   "metadata": {},
   "source": [
    "### Import Dataset and Libraries"
   ]
  },
  {
   "cell_type": "code",
   "execution_count": 1,
   "metadata": {},
   "outputs": [],
   "source": [
    "import numpy as np\n",
    "import pandas as pd\n",
    "import matplotlib.pyplot as plt\n",
    "import string\n",
    "import nltk\n",
    "from nltk.tokenize import sent_tokenize, word_tokenize\n",
    "from nltk.corpus import stopwords\n",
    "from nltk.tokenize import word_tokenize\n",
    "from nltk.stem.wordnet import WordNetLemmatizer"
   ]
  },
  {
   "cell_type": "code",
   "execution_count": 2,
   "metadata": {},
   "outputs": [
    {
     "data": {
      "text/html": [
       "<div>\n",
       "<style scoped>\n",
       "    .dataframe tbody tr th:only-of-type {\n",
       "        vertical-align: middle;\n",
       "    }\n",
       "\n",
       "    .dataframe tbody tr th {\n",
       "        vertical-align: top;\n",
       "    }\n",
       "\n",
       "    .dataframe thead th {\n",
       "        text-align: right;\n",
       "    }\n",
       "</style>\n",
       "<table border=\"1\" class=\"dataframe\">\n",
       "  <thead>\n",
       "    <tr style=\"text-align: right;\">\n",
       "      <th></th>\n",
       "      <th>text</th>\n",
       "    </tr>\n",
       "  </thead>\n",
       "  <tbody>\n",
       "    <tr>\n",
       "      <th>0</th>\n",
       "      <td>@JoeBiden And we’ll find out who won in 2026...</td>\n",
       "    </tr>\n",
       "    <tr>\n",
       "      <th>1</th>\n",
       "      <td>@JoeBiden Your Democratic Nazi Party cannot be...</td>\n",
       "    </tr>\n",
       "    <tr>\n",
       "      <th>2</th>\n",
       "      <td>@JoeBiden So did Lying Barr</td>\n",
       "    </tr>\n",
       "    <tr>\n",
       "      <th>3</th>\n",
       "      <td>@JoeBiden It's clear you didnt compose this tw...</td>\n",
       "    </tr>\n",
       "    <tr>\n",
       "      <th>4</th>\n",
       "      <td>@JoeBiden I will vote in person thank you.</td>\n",
       "    </tr>\n",
       "    <tr>\n",
       "      <th>...</th>\n",
       "      <td>...</td>\n",
       "    </tr>\n",
       "    <tr>\n",
       "      <th>2535</th>\n",
       "      <td>@JoeBiden You'll just try to calm those waters...</td>\n",
       "    </tr>\n",
       "    <tr>\n",
       "      <th>2536</th>\n",
       "      <td>@JoeBiden 96 days 96 dias #VoteJoeBiden2020  #...</td>\n",
       "    </tr>\n",
       "    <tr>\n",
       "      <th>2537</th>\n",
       "      <td>@JoeBiden YOU THINK YOU CAN DO THAT??? YOU CAN...</td>\n",
       "    </tr>\n",
       "    <tr>\n",
       "      <th>2538</th>\n",
       "      <td>@JoeBiden Trump wants our children back at sch...</td>\n",
       "    </tr>\n",
       "    <tr>\n",
       "      <th>2539</th>\n",
       "      <td>@JoeBiden ... and I know, because it’s much co...</td>\n",
       "    </tr>\n",
       "  </tbody>\n",
       "</table>\n",
       "<p>2540 rows × 1 columns</p>\n",
       "</div>"
      ],
      "text/plain": [
       "                                                   text\n",
       "0       @JoeBiden And we’ll find out who won in 2026...\n",
       "1     @JoeBiden Your Democratic Nazi Party cannot be...\n",
       "2                           @JoeBiden So did Lying Barr\n",
       "3     @JoeBiden It's clear you didnt compose this tw...\n",
       "4            @JoeBiden I will vote in person thank you.\n",
       "...                                                 ...\n",
       "2535  @JoeBiden You'll just try to calm those waters...\n",
       "2536  @JoeBiden 96 days 96 dias #VoteJoeBiden2020  #...\n",
       "2537  @JoeBiden YOU THINK YOU CAN DO THAT??? YOU CAN...\n",
       "2538  @JoeBiden Trump wants our children back at sch...\n",
       "2539  @JoeBiden ... and I know, because it’s much co...\n",
       "\n",
       "[2540 rows x 1 columns]"
      ]
     },
     "execution_count": 2,
     "metadata": {},
     "output_type": "execute_result"
    }
   ],
   "source": [
    "tweets = pd.read_csv(\"tweets.csv\")\n",
    "tweets"
   ]
  },
  {
   "cell_type": "code",
   "execution_count": 3,
   "metadata": {},
   "outputs": [
    {
     "data": {
      "text/plain": [
       "0      @JoeBiden And we’ll find out who won in 2026...\n",
       "1    @JoeBiden Your Democratic Nazi Party cannot be...\n",
       "2                          @JoeBiden So did Lying Barr\n",
       "3    @JoeBiden It's clear you didnt compose this tw...\n",
       "4           @JoeBiden I will vote in person thank you.\n",
       "Name: text, dtype: object"
      ]
     },
     "execution_count": 3,
     "metadata": {},
     "output_type": "execute_result"
    }
   ],
   "source": [
    "tweets['text'][:5]"
   ]
  },
  {
   "cell_type": "markdown",
   "metadata": {},
   "source": [
    "### Preprocessing Tweets"
   ]
  },
  {
   "cell_type": "code",
   "execution_count": 4,
   "metadata": {},
   "outputs": [],
   "source": [
    "string.punctuation\n",
    "remove_punc = '#$%&\\'()*+,-./:;<=>@[\\\\]^_`{|}~'"
   ]
  },
  {
   "cell_type": "code",
   "execution_count": 5,
   "metadata": {},
   "outputs": [],
   "source": [
    "sw = list(stopwords.words('english'))\n",
    "sw.extend(['joebiden', 'https'])"
   ]
  },
  {
   "cell_type": "code",
   "execution_count": 6,
   "metadata": {},
   "outputs": [],
   "source": [
    "remove_words = np.array(sw)"
   ]
  },
  {
   "cell_type": "code",
   "execution_count": 7,
   "metadata": {},
   "outputs": [],
   "source": [
    "# import nltk\n",
    "# nltk.download('punkt')\n",
    "cleaned_tweets = []\n",
    "l = WordNetLemmatizer()\n",
    "for tweet in tweets['text']: \n",
    "    clean = []\n",
    "    lst = word_tokenize(tweet)\n",
    "    for word in lst: \n",
    "        word_lowercase = word.lower()\n",
    "        if (word_lowercase.isdigit() or word_lowercase.isalpha() or word_lowercase=='?' or word_lowercase=='!') and (word_lowercase not in remove_words) and (word_lowercase not in remove_punc):\n",
    "            clean.append(l.lemmatize(word)) \n",
    "    cleaned_tweets.append(' '.join(clean))"
   ]
  },
  {
   "cell_type": "code",
   "execution_count": 8,
   "metadata": {},
   "outputs": [
    {
     "data": {
      "text/plain": [
       "['find 2026',\n",
       " 'Democratic Nazi Party trusted',\n",
       " 'Lying Barr',\n",
       " 'clear didnt compose tweet cant put ONE sentence together usually last 10 minute',\n",
       " 'vote person thank']"
      ]
     },
     "execution_count": 8,
     "metadata": {},
     "output_type": "execute_result"
    }
   ],
   "source": [
    "cleaned_tweets[:5]"
   ]
  },
  {
   "cell_type": "code",
   "execution_count": 9,
   "metadata": {},
   "outputs": [
    {
     "data": {
      "text/plain": [
       "['find 2026',\n",
       " 'Democratic Nazi Party trusted',\n",
       " 'Lying Barr',\n",
       " 'clear didnt compose tweet cant put ONE sentence together usually last 10 minute',\n",
       " 'vote person thank',\n",
       " 'LIVES MATTER HUMAN RIGHTS HELP YOUNG MATTEO BENASSI HUMAN RIGHTS',\n",
       " 'kno voted ! !',\n",
       " 'Looks like sleepy Democrat Joe',\n",
       " 'PleaseJustDoNot Youre son benefitted VP never',\n",
       " '',\n",
       " 'Voter ID required otherwise Democrats cheat proven integrity !',\n",
       " 'Scared debate ?',\n",
       " 'would approve way could beat Pres Trump ! !',\n",
       " 'standard reply propaganda',\n",
       " 'richardmarx Trouble trump voted person woman man camera TV',\n",
       " 'honestly comprehend country important USA fuck election system',\n",
       " '?',\n",
       " 'also run Twitter able well',\n",
       " 'absent Hence absentee ballot',\n",
       " 'Right year Donald J Trump',\n",
       " '',\n",
       " '? rig election like 2016 ? Look worked !',\n",
       " 'Old man afraid incapable debating Trump live stage handler let',\n",
       " 'mean Try run three sentence together actually make sense dementia Joe',\n",
       " 'liar ignorant ? difference absentee ballot mail voting know',\n",
       " 'troop vote mail able well',\n",
       " 'Absolutely',\n",
       " 'ballot know Stop',\n",
       " 'Absentee voting blanket balloting different thing know know Everyone know',\n",
       " 'Correct',\n",
       " 'Option absentee choice mail ballot force gov see diff ?',\n",
       " 'Donald Trump Built Wall U !',\n",
       " '',\n",
       " 'objectively easier tamper mail vote politician already involved',\n",
       " 'trust Democrats !',\n",
       " '',\n",
       " 'Widespread mail ballot Russian dream ! ! imagine Russians flooding voting district',\n",
       " 'Um Joe ? Absentee balloting often get overlooked counted lead',\n",
       " 'Must show proof citizenship',\n",
       " 'Donald Trump pay tax',\n",
       " 'dead cat',\n",
       " 'Totally different voted absentee',\n",
       " '!',\n",
       " 'Ask Jerry Nadler mail voting Joe',\n",
       " 'THATS ABSOLUTELY CORRECT']"
      ]
     },
     "execution_count": 9,
     "metadata": {},
     "output_type": "execute_result"
    }
   ],
   "source": [
    "tweets['cleaned_tweet'] = cleaned_tweets\n",
    "cleaned_tweets[:45]"
   ]
  },
  {
   "cell_type": "markdown",
   "metadata": {},
   "source": [
    "### Visualizing"
   ]
  },
  {
   "cell_type": "code",
   "execution_count": 10,
   "metadata": {},
   "outputs": [
    {
     "data": {
      "image/png": "[encoded data removed]",
      "text/plain": [
       "<Figure size 432x288 with 1 Axes>"
      ]
     },
     "metadata": {
      "needs_background": "light"
     },
     "output_type": "display_data"
    }
   ],
   "source": [
    "all_tweets = ' '.join([word for word in cleaned_tweets])\n",
    "from wordcloud import WordCloud\n",
    "plt.imshow(WordCloud(width = 3000, height = 1500).generate(all_tweets))\n",
    "plt.show()"
   ]
  },
  {
   "cell_type": "markdown",
   "metadata": {},
   "source": [
    "### Vader Sentiment Analysis"
   ]
  },
  {
   "cell_type": "code",
   "execution_count": 11,
   "metadata": {},
   "outputs": [],
   "source": [
    "from nltk.sentiment.vader import SentimentIntensityAnalyzer\n",
    "analyzer = SentimentIntensityAnalyzer()\n",
    "negative = []\n",
    "neutral = []\n",
    "positive = []\n",
    "compound = []\n",
    "for i in range(len(cleaned_tweets)):\n",
    "    result = analyzer.polarity_scores(cleaned_tweets[i])\n",
    "    negative.append(result.get('neg'))\n",
    "    neutral.append(result.get('neu'))\n",
    "    positive.append(result.get('pos'))\n",
    "    compound.append(result.get('compound'))"
   ]
  },
  {
   "cell_type": "code",
   "execution_count": 12,
   "metadata": {},
   "outputs": [
    {
     "data": {
      "text/html": [
       "<div>\n",
       "<style scoped>\n",
       "    .dataframe tbody tr th:only-of-type {\n",
       "        vertical-align: middle;\n",
       "    }\n",
       "\n",
       "    .dataframe tbody tr th {\n",
       "        vertical-align: top;\n",
       "    }\n",
       "\n",
       "    .dataframe thead th {\n",
       "        text-align: right;\n",
       "    }\n",
       "</style>\n",
       "<table border=\"1\" class=\"dataframe\">\n",
       "  <thead>\n",
       "    <tr style=\"text-align: right;\">\n",
       "      <th></th>\n",
       "      <th>text</th>\n",
       "      <th>cleaned_tweet</th>\n",
       "      <th>positive</th>\n",
       "    </tr>\n",
       "  </thead>\n",
       "  <tbody>\n",
       "    <tr>\n",
       "      <th>0</th>\n",
       "      <td>@JoeBiden And we’ll find out who won in 2026...</td>\n",
       "      <td>find 2026</td>\n",
       "      <td>0.000</td>\n",
       "    </tr>\n",
       "    <tr>\n",
       "      <th>1</th>\n",
       "      <td>@JoeBiden Your Democratic Nazi Party cannot be...</td>\n",
       "      <td>Democratic Nazi Party trusted</td>\n",
       "      <td>0.744</td>\n",
       "    </tr>\n",
       "    <tr>\n",
       "      <th>2</th>\n",
       "      <td>@JoeBiden So did Lying Barr</td>\n",
       "      <td>Lying Barr</td>\n",
       "      <td>0.000</td>\n",
       "    </tr>\n",
       "    <tr>\n",
       "      <th>3</th>\n",
       "      <td>@JoeBiden It's clear you didnt compose this tw...</td>\n",
       "      <td>clear didnt compose tweet cant put ONE sentenc...</td>\n",
       "      <td>0.175</td>\n",
       "    </tr>\n",
       "    <tr>\n",
       "      <th>4</th>\n",
       "      <td>@JoeBiden I will vote in person thank you.</td>\n",
       "      <td>vote person thank</td>\n",
       "      <td>0.556</td>\n",
       "    </tr>\n",
       "  </tbody>\n",
       "</table>\n",
       "</div>"
      ],
      "text/plain": [
       "                                                text  \\\n",
       "0    @JoeBiden And we’ll find out who won in 2026...   \n",
       "1  @JoeBiden Your Democratic Nazi Party cannot be...   \n",
       "2                        @JoeBiden So did Lying Barr   \n",
       "3  @JoeBiden It's clear you didnt compose this tw...   \n",
       "4         @JoeBiden I will vote in person thank you.   \n",
       "\n",
       "                                       cleaned_tweet  positive  \n",
       "0                                          find 2026     0.000  \n",
       "1                      Democratic Nazi Party trusted     0.744  \n",
       "2                                         Lying Barr     0.000  \n",
       "3  clear didnt compose tweet cant put ONE sentenc...     0.175  \n",
       "4                                  vote person thank     0.556  "
      ]
     },
     "execution_count": 12,
     "metadata": {},
     "output_type": "execute_result"
    }
   ],
   "source": [
    "tweets['positive'] = positive\n",
    "tweets.head()"
   ]
  },
  {
   "cell_type": "code",
   "execution_count": 13,
   "metadata": {},
   "outputs": [
    {
     "data": {
      "text/html": [
       "<div>\n",
       "<style scoped>\n",
       "    .dataframe tbody tr th:only-of-type {\n",
       "        vertical-align: middle;\n",
       "    }\n",
       "\n",
       "    .dataframe tbody tr th {\n",
       "        vertical-align: top;\n",
       "    }\n",
       "\n",
       "    .dataframe thead th {\n",
       "        text-align: right;\n",
       "    }\n",
       "</style>\n",
       "<table border=\"1\" class=\"dataframe\">\n",
       "  <thead>\n",
       "    <tr style=\"text-align: right;\">\n",
       "      <th></th>\n",
       "      <th>text</th>\n",
       "      <th>cleaned_tweet</th>\n",
       "      <th>positive</th>\n",
       "      <th>negative</th>\n",
       "    </tr>\n",
       "  </thead>\n",
       "  <tbody>\n",
       "    <tr>\n",
       "      <th>0</th>\n",
       "      <td>@JoeBiden And we’ll find out who won in 2026...</td>\n",
       "      <td>find 2026</td>\n",
       "      <td>0.000</td>\n",
       "      <td>0.000</td>\n",
       "    </tr>\n",
       "    <tr>\n",
       "      <th>1</th>\n",
       "      <td>@JoeBiden Your Democratic Nazi Party cannot be...</td>\n",
       "      <td>Democratic Nazi Party trusted</td>\n",
       "      <td>0.744</td>\n",
       "      <td>0.000</td>\n",
       "    </tr>\n",
       "    <tr>\n",
       "      <th>2</th>\n",
       "      <td>@JoeBiden So did Lying Barr</td>\n",
       "      <td>Lying Barr</td>\n",
       "      <td>0.000</td>\n",
       "      <td>0.773</td>\n",
       "    </tr>\n",
       "    <tr>\n",
       "      <th>3</th>\n",
       "      <td>@JoeBiden It's clear you didnt compose this tw...</td>\n",
       "      <td>clear didnt compose tweet cant put ONE sentenc...</td>\n",
       "      <td>0.175</td>\n",
       "      <td>0.082</td>\n",
       "    </tr>\n",
       "    <tr>\n",
       "      <th>4</th>\n",
       "      <td>@JoeBiden I will vote in person thank you.</td>\n",
       "      <td>vote person thank</td>\n",
       "      <td>0.556</td>\n",
       "      <td>0.000</td>\n",
       "    </tr>\n",
       "  </tbody>\n",
       "</table>\n",
       "</div>"
      ],
      "text/plain": [
       "                                                text  \\\n",
       "0    @JoeBiden And we’ll find out who won in 2026...   \n",
       "1  @JoeBiden Your Democratic Nazi Party cannot be...   \n",
       "2                        @JoeBiden So did Lying Barr   \n",
       "3  @JoeBiden It's clear you didnt compose this tw...   \n",
       "4         @JoeBiden I will vote in person thank you.   \n",
       "\n",
       "                                       cleaned_tweet  positive  negative  \n",
       "0                                          find 2026     0.000     0.000  \n",
       "1                      Democratic Nazi Party trusted     0.744     0.000  \n",
       "2                                         Lying Barr     0.000     0.773  \n",
       "3  clear didnt compose tweet cant put ONE sentenc...     0.175     0.082  \n",
       "4                                  vote person thank     0.556     0.000  "
      ]
     },
     "execution_count": 13,
     "metadata": {},
     "output_type": "execute_result"
    }
   ],
   "source": [
    "tweets['negative'] = negative\n",
    "tweets.head()"
   ]
  },
  {
   "cell_type": "code",
   "execution_count": 14,
   "metadata": {},
   "outputs": [
    {
     "data": {
      "text/html": [
       "<div>\n",
       "<style scoped>\n",
       "    .dataframe tbody tr th:only-of-type {\n",
       "        vertical-align: middle;\n",
       "    }\n",
       "\n",
       "    .dataframe tbody tr th {\n",
       "        vertical-align: top;\n",
       "    }\n",
       "\n",
       "    .dataframe thead th {\n",
       "        text-align: right;\n",
       "    }\n",
       "</style>\n",
       "<table border=\"1\" class=\"dataframe\">\n",
       "  <thead>\n",
       "    <tr style=\"text-align: right;\">\n",
       "      <th></th>\n",
       "      <th>text</th>\n",
       "      <th>cleaned_tweet</th>\n",
       "      <th>positive</th>\n",
       "      <th>negative</th>\n",
       "      <th>neutral</th>\n",
       "    </tr>\n",
       "  </thead>\n",
       "  <tbody>\n",
       "    <tr>\n",
       "      <th>0</th>\n",
       "      <td>@JoeBiden And we’ll find out who won in 2026...</td>\n",
       "      <td>find 2026</td>\n",
       "      <td>0.000</td>\n",
       "      <td>0.000</td>\n",
       "      <td>1.000</td>\n",
       "    </tr>\n",
       "    <tr>\n",
       "      <th>1</th>\n",
       "      <td>@JoeBiden Your Democratic Nazi Party cannot be...</td>\n",
       "      <td>Democratic Nazi Party trusted</td>\n",
       "      <td>0.744</td>\n",
       "      <td>0.000</td>\n",
       "      <td>0.256</td>\n",
       "    </tr>\n",
       "    <tr>\n",
       "      <th>2</th>\n",
       "      <td>@JoeBiden So did Lying Barr</td>\n",
       "      <td>Lying Barr</td>\n",
       "      <td>0.000</td>\n",
       "      <td>0.773</td>\n",
       "      <td>0.227</td>\n",
       "    </tr>\n",
       "    <tr>\n",
       "      <th>3</th>\n",
       "      <td>@JoeBiden It's clear you didnt compose this tw...</td>\n",
       "      <td>clear didnt compose tweet cant put ONE sentenc...</td>\n",
       "      <td>0.175</td>\n",
       "      <td>0.082</td>\n",
       "      <td>0.742</td>\n",
       "    </tr>\n",
       "    <tr>\n",
       "      <th>4</th>\n",
       "      <td>@JoeBiden I will vote in person thank you.</td>\n",
       "      <td>vote person thank</td>\n",
       "      <td>0.556</td>\n",
       "      <td>0.000</td>\n",
       "      <td>0.444</td>\n",
       "    </tr>\n",
       "  </tbody>\n",
       "</table>\n",
       "</div>"
      ],
      "text/plain": [
       "                                                text  \\\n",
       "0    @JoeBiden And we’ll find out who won in 2026...   \n",
       "1  @JoeBiden Your Democratic Nazi Party cannot be...   \n",
       "2                        @JoeBiden So did Lying Barr   \n",
       "3  @JoeBiden It's clear you didnt compose this tw...   \n",
       "4         @JoeBiden I will vote in person thank you.   \n",
       "\n",
       "                                       cleaned_tweet  positive  negative  \\\n",
       "0                                          find 2026     0.000     0.000   \n",
       "1                      Democratic Nazi Party trusted     0.744     0.000   \n",
       "2                                         Lying Barr     0.000     0.773   \n",
       "3  clear didnt compose tweet cant put ONE sentenc...     0.175     0.082   \n",
       "4                                  vote person thank     0.556     0.000   \n",
       "\n",
       "   neutral  \n",
       "0    1.000  \n",
       "1    0.256  \n",
       "2    0.227  \n",
       "3    0.742  \n",
       "4    0.444  "
      ]
     },
     "execution_count": 14,
     "metadata": {},
     "output_type": "execute_result"
    }
   ],
   "source": [
    "tweets['neutral'] = neutral\n",
    "tweets.head()"
   ]
  },
  {
   "cell_type": "code",
   "execution_count": 15,
   "metadata": {},
   "outputs": [
    {
     "data": {
      "text/html": [
       "<div>\n",
       "<style scoped>\n",
       "    .dataframe tbody tr th:only-of-type {\n",
       "        vertical-align: middle;\n",
       "    }\n",
       "\n",
       "    .dataframe tbody tr th {\n",
       "        vertical-align: top;\n",
       "    }\n",
       "\n",
       "    .dataframe thead th {\n",
       "        text-align: right;\n",
       "    }\n",
       "</style>\n",
       "<table border=\"1\" class=\"dataframe\">\n",
       "  <thead>\n",
       "    <tr style=\"text-align: right;\">\n",
       "      <th></th>\n",
       "      <th>text</th>\n",
       "      <th>cleaned_tweet</th>\n",
       "      <th>positive</th>\n",
       "      <th>negative</th>\n",
       "      <th>neutral</th>\n",
       "      <th>compound</th>\n",
       "    </tr>\n",
       "  </thead>\n",
       "  <tbody>\n",
       "    <tr>\n",
       "      <th>0</th>\n",
       "      <td>@JoeBiden And we’ll find out who won in 2026...</td>\n",
       "      <td>find 2026</td>\n",
       "      <td>0.000</td>\n",
       "      <td>0.000</td>\n",
       "      <td>1.000</td>\n",
       "      <td>0.0000</td>\n",
       "    </tr>\n",
       "    <tr>\n",
       "      <th>1</th>\n",
       "      <td>@JoeBiden Your Democratic Nazi Party cannot be...</td>\n",
       "      <td>Democratic Nazi Party trusted</td>\n",
       "      <td>0.744</td>\n",
       "      <td>0.000</td>\n",
       "      <td>0.256</td>\n",
       "      <td>0.7003</td>\n",
       "    </tr>\n",
       "    <tr>\n",
       "      <th>2</th>\n",
       "      <td>@JoeBiden So did Lying Barr</td>\n",
       "      <td>Lying Barr</td>\n",
       "      <td>0.000</td>\n",
       "      <td>0.773</td>\n",
       "      <td>0.227</td>\n",
       "      <td>-0.5267</td>\n",
       "    </tr>\n",
       "    <tr>\n",
       "      <th>3</th>\n",
       "      <td>@JoeBiden It's clear you didnt compose this tw...</td>\n",
       "      <td>clear didnt compose tweet cant put ONE sentenc...</td>\n",
       "      <td>0.175</td>\n",
       "      <td>0.082</td>\n",
       "      <td>0.742</td>\n",
       "      <td>0.3352</td>\n",
       "    </tr>\n",
       "    <tr>\n",
       "      <th>4</th>\n",
       "      <td>@JoeBiden I will vote in person thank you.</td>\n",
       "      <td>vote person thank</td>\n",
       "      <td>0.556</td>\n",
       "      <td>0.000</td>\n",
       "      <td>0.444</td>\n",
       "      <td>0.3612</td>\n",
       "    </tr>\n",
       "  </tbody>\n",
       "</table>\n",
       "</div>"
      ],
      "text/plain": [
       "                                                text  \\\n",
       "0    @JoeBiden And we’ll find out who won in 2026...   \n",
       "1  @JoeBiden Your Democratic Nazi Party cannot be...   \n",
       "2                        @JoeBiden So did Lying Barr   \n",
       "3  @JoeBiden It's clear you didnt compose this tw...   \n",
       "4         @JoeBiden I will vote in person thank you.   \n",
       "\n",
       "                                       cleaned_tweet  positive  negative  \\\n",
       "0                                          find 2026     0.000     0.000   \n",
       "1                      Democratic Nazi Party trusted     0.744     0.000   \n",
       "2                                         Lying Barr     0.000     0.773   \n",
       "3  clear didnt compose tweet cant put ONE sentenc...     0.175     0.082   \n",
       "4                                  vote person thank     0.556     0.000   \n",
       "\n",
       "   neutral  compound  \n",
       "0    1.000    0.0000  \n",
       "1    0.256    0.7003  \n",
       "2    0.227   -0.5267  \n",
       "3    0.742    0.3352  \n",
       "4    0.444    0.3612  "
      ]
     },
     "execution_count": 15,
     "metadata": {},
     "output_type": "execute_result"
    }
   ],
   "source": [
    "tweets['compound'] = compound\n",
    "tweets.head()"
   ]
  },
  {
   "cell_type": "code",
   "execution_count": 16,
   "metadata": {},
   "outputs": [],
   "source": [
    "sentiment = []\n",
    "for num in tweets['compound']:\n",
    "    if num >=0.05:\n",
    "        sentiment.append('positive')\n",
    "    elif num <=-0.05:\n",
    "        sentiment.append('negative')\n",
    "    elif -0.05 < num < 0.05:\n",
    "        sentiment.append('neutral')"
   ]
  },
  {
   "cell_type": "code",
   "execution_count": 17,
   "metadata": {},
   "outputs": [
    {
     "data": {
      "text/plain": [
       "['neutral',\n",
       " 'positive',\n",
       " 'negative',\n",
       " 'positive',\n",
       " 'positive',\n",
       " 'positive',\n",
       " 'neutral',\n",
       " 'positive',\n",
       " 'positive',\n",
       " 'neutral',\n",
       " 'negative',\n",
       " 'negative',\n",
       " 'neutral',\n",
       " 'negative',\n",
       " 'negative',\n",
       " 'positive',\n",
       " 'neutral',\n",
       " 'positive',\n",
       " 'negative',\n",
       " 'neutral',\n",
       " 'neutral',\n",
       " 'positive',\n",
       " 'negative',\n",
       " 'positive',\n",
       " 'negative',\n",
       " 'positive',\n",
       " 'neutral',\n",
       " 'negative',\n",
       " 'negative',\n",
       " 'neutral',\n",
       " 'negative',\n",
       " 'neutral',\n",
       " 'neutral',\n",
       " 'positive',\n",
       " 'positive',\n",
       " 'neutral',\n",
       " 'positive',\n",
       " 'negative',\n",
       " 'neutral',\n",
       " 'negative']"
      ]
     },
     "execution_count": 17,
     "metadata": {},
     "output_type": "execute_result"
    }
   ],
   "source": [
    "sentiment[:40]"
   ]
  },
  {
   "cell_type": "code",
   "execution_count": 18,
   "metadata": {},
   "outputs": [
    {
     "data": {
      "text/html": [
       "<div>\n",
       "<style scoped>\n",
       "    .dataframe tbody tr th:only-of-type {\n",
       "        vertical-align: middle;\n",
       "    }\n",
       "\n",
       "    .dataframe tbody tr th {\n",
       "        vertical-align: top;\n",
       "    }\n",
       "\n",
       "    .dataframe thead th {\n",
       "        text-align: right;\n",
       "    }\n",
       "</style>\n",
       "<table border=\"1\" class=\"dataframe\">\n",
       "  <thead>\n",
       "    <tr style=\"text-align: right;\">\n",
       "      <th></th>\n",
       "      <th>text</th>\n",
       "      <th>cleaned_tweet</th>\n",
       "      <th>positive</th>\n",
       "      <th>negative</th>\n",
       "      <th>neutral</th>\n",
       "      <th>compound</th>\n",
       "      <th>sentiment</th>\n",
       "    </tr>\n",
       "  </thead>\n",
       "  <tbody>\n",
       "    <tr>\n",
       "      <th>0</th>\n",
       "      <td>@JoeBiden And we’ll find out who won in 2026...</td>\n",
       "      <td>find 2026</td>\n",
       "      <td>0.000</td>\n",
       "      <td>0.000</td>\n",
       "      <td>1.000</td>\n",
       "      <td>0.0000</td>\n",
       "      <td>neutral</td>\n",
       "    </tr>\n",
       "    <tr>\n",
       "      <th>1</th>\n",
       "      <td>@JoeBiden Your Democratic Nazi Party cannot be...</td>\n",
       "      <td>Democratic Nazi Party trusted</td>\n",
       "      <td>0.744</td>\n",
       "      <td>0.000</td>\n",
       "      <td>0.256</td>\n",
       "      <td>0.7003</td>\n",
       "      <td>positive</td>\n",
       "    </tr>\n",
       "    <tr>\n",
       "      <th>2</th>\n",
       "      <td>@JoeBiden So did Lying Barr</td>\n",
       "      <td>Lying Barr</td>\n",
       "      <td>0.000</td>\n",
       "      <td>0.773</td>\n",
       "      <td>0.227</td>\n",
       "      <td>-0.5267</td>\n",
       "      <td>negative</td>\n",
       "    </tr>\n",
       "    <tr>\n",
       "      <th>3</th>\n",
       "      <td>@JoeBiden It's clear you didnt compose this tw...</td>\n",
       "      <td>clear didnt compose tweet cant put ONE sentenc...</td>\n",
       "      <td>0.175</td>\n",
       "      <td>0.082</td>\n",
       "      <td>0.742</td>\n",
       "      <td>0.3352</td>\n",
       "      <td>positive</td>\n",
       "    </tr>\n",
       "    <tr>\n",
       "      <th>4</th>\n",
       "      <td>@JoeBiden I will vote in person thank you.</td>\n",
       "      <td>vote person thank</td>\n",
       "      <td>0.556</td>\n",
       "      <td>0.000</td>\n",
       "      <td>0.444</td>\n",
       "      <td>0.3612</td>\n",
       "      <td>positive</td>\n",
       "    </tr>\n",
       "  </tbody>\n",
       "</table>\n",
       "</div>"
      ],
      "text/plain": [
       "                                                text  \\\n",
       "0    @JoeBiden And we’ll find out who won in 2026...   \n",
       "1  @JoeBiden Your Democratic Nazi Party cannot be...   \n",
       "2                        @JoeBiden So did Lying Barr   \n",
       "3  @JoeBiden It's clear you didnt compose this tw...   \n",
       "4         @JoeBiden I will vote in person thank you.   \n",
       "\n",
       "                                       cleaned_tweet  positive  negative  \\\n",
       "0                                          find 2026     0.000     0.000   \n",
       "1                      Democratic Nazi Party trusted     0.744     0.000   \n",
       "2                                         Lying Barr     0.000     0.773   \n",
       "3  clear didnt compose tweet cant put ONE sentenc...     0.175     0.082   \n",
       "4                                  vote person thank     0.556     0.000   \n",
       "\n",
       "   neutral  compound sentiment  \n",
       "0    1.000    0.0000   neutral  \n",
       "1    0.256    0.7003  positive  \n",
       "2    0.227   -0.5267  negative  \n",
       "3    0.742    0.3352  positive  \n",
       "4    0.444    0.3612  positive  "
      ]
     },
     "execution_count": 18,
     "metadata": {},
     "output_type": "execute_result"
    }
   ],
   "source": [
    "tweets['sentiment'] = sentiment\n",
    "tweets.head()"
   ]
  },
  {
   "cell_type": "code",
   "execution_count": 19,
   "metadata": {},
   "outputs": [
    {
     "data": {
      "text/plain": [
       "neutral     1188\n",
       "positive     730\n",
       "negative     622\n",
       "Name: sentiment, dtype: int64"
      ]
     },
     "execution_count": 19,
     "metadata": {},
     "output_type": "execute_result"
    }
   ],
   "source": [
    "tweets['sentiment'].value_counts()"
   ]
  },
  {
   "cell_type": "code",
   "execution_count": 20,
   "metadata": {},
   "outputs": [
    {
     "data": {
      "image/png": "[encoded data removed]",
      "text/plain": [
       "<Figure size 432x288 with 1 Axes>"
      ]
     },
     "metadata": {},
     "output_type": "display_data"
    }
   ],
   "source": [
    "plt.pie(tweets['sentiment'].value_counts(), radius=1.3, autopct='%0.1f')\n",
    "plt.legend(labels=tweets.sentiment.unique(), bbox_to_anchor=(1.1, 0.5), loc=\"center left\")\n",
    "plt.show()"
   ]
  },
  {
   "cell_type": "code",
   "execution_count": 21,
   "metadata": {},
   "outputs": [
    {
     "data": {
      "image/png": "[encoded data removed]",
      "text/plain": [
       "<Figure size 360x288 with 1 Axes>"
      ]
     },
     "metadata": {
      "needs_background": "light"
     },
     "output_type": "display_data"
    }
   ],
   "source": [
    "tweets['sentiment'].value_counts().plot(kind='bar', color='grey', width=0.7, figsize=(5, 4))\n",
    "plt.xticks(rotation=360)\n",
    "plt.show()"
   ]
  },
  {
   "cell_type": "markdown",
   "metadata": {},
   "source": [
    "### Conclusion and Findings"
   ]
  },
  {
   "cell_type": "markdown",
   "metadata": {},
   "source": [
    "The sentiment of tweets is mostly neutral. However, there are slightly more tweets with positive sentiment than negative sentiment. The main purpose of this project was to preprocess and clean tweets using lemmatizer, visualize using WordCloud, and use the Vader Sentiment Analyzer. "
   ]
  }
 ],
 "metadata": {
  "kernelspec": {
   "display_name": "Python 3",
   "language": "python",
   "name": "python3"
  },
  "language_info": {
   "codemirror_mode": {
    "name": "ipython",
    "version": 3
   },
   "file_extension": ".py",
   "mimetype": "text/x-python",
   "name": "python",
   "nbconvert_exporter": "python",
   "pygments_lexer": "ipython3",
   "version": "3.8.5"
  }
 },
 "nbformat": 4,
 "nbformat_minor": 4
}
